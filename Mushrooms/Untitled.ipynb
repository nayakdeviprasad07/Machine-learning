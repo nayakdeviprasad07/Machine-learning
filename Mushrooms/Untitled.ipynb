{
 "cells": [
  {
   "cell_type": "code",
   "execution_count": 1,
   "metadata": {},
   "outputs": [],
   "source": [
    "import pandas as pd\n",
    "import numpy as np\n",
    "from sklearn import preprocessing\n",
    "import matplotlib.pyplot as plt \n",
    "from sklearn.linear_model import LogisticRegression\n",
    "from sklearn.model_selection import train_test_split\n",
    "import seaborn as sns"
   ]
  },
  {
   "cell_type": "code",
   "execution_count": 2,
   "metadata": {},
   "outputs": [],
   "source": [
    "mush=pd.read_csv(\"mushrooms.csv\")"
   ]
  },
  {
   "cell_type": "code",
   "execution_count": 3,
   "metadata": {},
   "outputs": [
    {
     "name": "stdout",
     "output_type": "stream",
     "text": [
      "<class 'pandas.core.frame.DataFrame'>\n",
      "RangeIndex: 8124 entries, 0 to 8123\n",
      "Data columns (total 23 columns):\n",
      "class                       8124 non-null object\n",
      "cap-shape                   8124 non-null object\n",
      "cap-surface                 8124 non-null object\n",
      "cap-color                   8124 non-null object\n",
      "bruises                     8124 non-null object\n",
      "odor                        8124 non-null object\n",
      "gill-attachment             8124 non-null object\n",
      "gill-spacing                8124 non-null object\n",
      "gill-size                   8124 non-null object\n",
      "gill-color                  8124 non-null object\n",
      "stalk-shape                 8124 non-null object\n",
      "stalk-root                  8124 non-null object\n",
      "stalk-surface-above-ring    8124 non-null object\n",
      "stalk-surface-below-ring    8124 non-null object\n",
      "stalk-color-above-ring      8124 non-null object\n",
      "stalk-color-below-ring      8124 non-null object\n",
      "veil-type                   8124 non-null object\n",
      "veil-color                  8124 non-null object\n",
      "ring-number                 8124 non-null object\n",
      "ring-type                   8124 non-null object\n",
      "spore-print-color           8124 non-null object\n",
      "population                  8124 non-null object\n",
      "habitat                     8124 non-null object\n",
      "dtypes: object(23)\n",
      "memory usage: 1.4+ MB\n"
     ]
    }
   ],
   "source": [
    "mush.info()"
   ]
  },
  {
   "cell_type": "code",
   "execution_count": 4,
   "metadata": {},
   "outputs": [],
   "source": [
    "cat_col = mush.select_dtypes(include=['object']).columns\n",
    "dummies = pd.get_dummies(mush[cat_col],drop_first=True)\n",
    "without_dummies = mush.drop(cat_col,axis=1)"
   ]
  },
  {
   "cell_type": "code",
   "execution_count": 5,
   "metadata": {},
   "outputs": [],
   "source": [
    "data = pd.concat([dummies,without_dummies],axis=1)"
   ]
  },
  {
   "cell_type": "code",
   "execution_count": 6,
   "metadata": {},
   "outputs": [
    {
     "name": "stdout",
     "output_type": "stream",
     "text": [
      "<class 'pandas.core.frame.DataFrame'>\n",
      "RangeIndex: 8124 entries, 0 to 8123\n",
      "Data columns (total 96 columns):\n",
      "class_p                       8124 non-null uint8\n",
      "cap-shape_c                   8124 non-null uint8\n",
      "cap-shape_f                   8124 non-null uint8\n",
      "cap-shape_k                   8124 non-null uint8\n",
      "cap-shape_s                   8124 non-null uint8\n",
      "cap-shape_x                   8124 non-null uint8\n",
      "cap-surface_g                 8124 non-null uint8\n",
      "cap-surface_s                 8124 non-null uint8\n",
      "cap-surface_y                 8124 non-null uint8\n",
      "cap-color_c                   8124 non-null uint8\n",
      "cap-color_e                   8124 non-null uint8\n",
      "cap-color_g                   8124 non-null uint8\n",
      "cap-color_n                   8124 non-null uint8\n",
      "cap-color_p                   8124 non-null uint8\n",
      "cap-color_r                   8124 non-null uint8\n",
      "cap-color_u                   8124 non-null uint8\n",
      "cap-color_w                   8124 non-null uint8\n",
      "cap-color_y                   8124 non-null uint8\n",
      "bruises_t                     8124 non-null uint8\n",
      "odor_c                        8124 non-null uint8\n",
      "odor_f                        8124 non-null uint8\n",
      "odor_l                        8124 non-null uint8\n",
      "odor_m                        8124 non-null uint8\n",
      "odor_n                        8124 non-null uint8\n",
      "odor_p                        8124 non-null uint8\n",
      "odor_s                        8124 non-null uint8\n",
      "odor_y                        8124 non-null uint8\n",
      "gill-attachment_f             8124 non-null uint8\n",
      "gill-spacing_w                8124 non-null uint8\n",
      "gill-size_n                   8124 non-null uint8\n",
      "gill-color_e                  8124 non-null uint8\n",
      "gill-color_g                  8124 non-null uint8\n",
      "gill-color_h                  8124 non-null uint8\n",
      "gill-color_k                  8124 non-null uint8\n",
      "gill-color_n                  8124 non-null uint8\n",
      "gill-color_o                  8124 non-null uint8\n",
      "gill-color_p                  8124 non-null uint8\n",
      "gill-color_r                  8124 non-null uint8\n",
      "gill-color_u                  8124 non-null uint8\n",
      "gill-color_w                  8124 non-null uint8\n",
      "gill-color_y                  8124 non-null uint8\n",
      "stalk-shape_t                 8124 non-null uint8\n",
      "stalk-root_b                  8124 non-null uint8\n",
      "stalk-root_c                  8124 non-null uint8\n",
      "stalk-root_e                  8124 non-null uint8\n",
      "stalk-root_r                  8124 non-null uint8\n",
      "stalk-surface-above-ring_k    8124 non-null uint8\n",
      "stalk-surface-above-ring_s    8124 non-null uint8\n",
      "stalk-surface-above-ring_y    8124 non-null uint8\n",
      "stalk-surface-below-ring_k    8124 non-null uint8\n",
      "stalk-surface-below-ring_s    8124 non-null uint8\n",
      "stalk-surface-below-ring_y    8124 non-null uint8\n",
      "stalk-color-above-ring_c      8124 non-null uint8\n",
      "stalk-color-above-ring_e      8124 non-null uint8\n",
      "stalk-color-above-ring_g      8124 non-null uint8\n",
      "stalk-color-above-ring_n      8124 non-null uint8\n",
      "stalk-color-above-ring_o      8124 non-null uint8\n",
      "stalk-color-above-ring_p      8124 non-null uint8\n",
      "stalk-color-above-ring_w      8124 non-null uint8\n",
      "stalk-color-above-ring_y      8124 non-null uint8\n",
      "stalk-color-below-ring_c      8124 non-null uint8\n",
      "stalk-color-below-ring_e      8124 non-null uint8\n",
      "stalk-color-below-ring_g      8124 non-null uint8\n",
      "stalk-color-below-ring_n      8124 non-null uint8\n",
      "stalk-color-below-ring_o      8124 non-null uint8\n",
      "stalk-color-below-ring_p      8124 non-null uint8\n",
      "stalk-color-below-ring_w      8124 non-null uint8\n",
      "stalk-color-below-ring_y      8124 non-null uint8\n",
      "veil-color_o                  8124 non-null uint8\n",
      "veil-color_w                  8124 non-null uint8\n",
      "veil-color_y                  8124 non-null uint8\n",
      "ring-number_o                 8124 non-null uint8\n",
      "ring-number_t                 8124 non-null uint8\n",
      "ring-type_f                   8124 non-null uint8\n",
      "ring-type_l                   8124 non-null uint8\n",
      "ring-type_n                   8124 non-null uint8\n",
      "ring-type_p                   8124 non-null uint8\n",
      "spore-print-color_h           8124 non-null uint8\n",
      "spore-print-color_k           8124 non-null uint8\n",
      "spore-print-color_n           8124 non-null uint8\n",
      "spore-print-color_o           8124 non-null uint8\n",
      "spore-print-color_r           8124 non-null uint8\n",
      "spore-print-color_u           8124 non-null uint8\n",
      "spore-print-color_w           8124 non-null uint8\n",
      "spore-print-color_y           8124 non-null uint8\n",
      "population_c                  8124 non-null uint8\n",
      "population_n                  8124 non-null uint8\n",
      "population_s                  8124 non-null uint8\n",
      "population_v                  8124 non-null uint8\n",
      "population_y                  8124 non-null uint8\n",
      "habitat_g                     8124 non-null uint8\n",
      "habitat_l                     8124 non-null uint8\n",
      "habitat_m                     8124 non-null uint8\n",
      "habitat_p                     8124 non-null uint8\n",
      "habitat_u                     8124 non-null uint8\n",
      "habitat_w                     8124 non-null uint8\n",
      "dtypes: uint8(96)\n",
      "memory usage: 761.7 KB\n"
     ]
    }
   ],
   "source": [
    "data.info()"
   ]
  },
  {
   "cell_type": "code",
   "execution_count": 10,
   "metadata": {},
   "outputs": [
    {
     "name": "stdout",
     "output_type": "stream",
     "text": [
      "0.992\n"
     ]
    }
   ],
   "source": [
    "y = data[\"class_p\"]\n",
    "x = data.drop([\"class_p\"],axis=1)\n",
    "from sklearn import metrics\n",
    "from sklearn.model_selection import train_test_split\n",
    "x_train, x_test, y_train, y_test = train_test_split(x,y,\n",
    "                                    test_size=0.3,random_state=1)....................................................\n",
    "from sklearn.decomposition import PCA\n",
    "pca=PCA(n_components=7)\n",
    "x_reduced=pca.fit_transform(x)\n",
    "x_train,x_test,y_train,y_test= train_test_split(x_reduced,y,test_size=0.2,random_state=1)\n",
    "\n",
    "from sklearn.neighbors import KNeighborsClassifier\n",
    "knn_model = KNeighborsClassifier(n_neighbors=75)\n",
    "knn_model.fit(x_train,y_train)\n",
    "ypred_knn=knn_model.predict(x_test)\n",
    "print(metrics.accuracy_score(y_test,ypred_knn))"
   ]
  },
  {
   "cell_type": "code",
   "execution_count": null,
   "metadata": {},
   "outputs": [],
   "source": []
  }
 ],
 "metadata": {
  "kernelspec": {
   "display_name": "Python 3",
   "language": "python",
   "name": "python3"
  },
  "language_info": {
   "codemirror_mode": {
    "name": "ipython",
    "version": 3
   },
   "file_extension": ".py",
   "mimetype": "text/x-python",
   "name": "python",
   "nbconvert_exporter": "python",
   "pygments_lexer": "ipython3",
   "version": "3.7.3"
  }
 },
 "nbformat": 4,
 "nbformat_minor": 2
}
