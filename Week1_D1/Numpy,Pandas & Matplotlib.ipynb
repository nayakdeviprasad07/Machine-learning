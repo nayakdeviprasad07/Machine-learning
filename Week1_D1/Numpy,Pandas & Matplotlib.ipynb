{
 "cells": [
  {
   "cell_type": "markdown",
   "metadata": {},
   "source": [
    "Four most necessary libraries for Data Science in Python:\n",
    "    1. Numpy       [package used to create,access,manipulate numpy arrays]\n",
    "    2. Pandas      [package used to create,access,manipulate dataframe object]\n",
    "    3. Matlplotlib [package used for visualization]\n",
    "    4. sk_learn    [package used to implement machine learning model training,testing]"
   ]
  },
  {
   "cell_type": "markdown",
   "metadata": {},
   "source": [
    "### 1.Numpy ####\n",
    "#### 1.1 Create numpy array ####\n",
    "\n",
    "List Recap:\n",
    "1. Collection of values\n",
    "2. Hold different data types\n",
    "3. Add/Remove/Manipulate values of elements\n",
    "\n",
    "While all above is fine, for data science we need to do mathematical operations over a collections of values faster!\n",
    "Hence, numpy arrays. Numpy arrays are very similar to lists, but the major difference is numpy arrays can hold values of only one data type. The other differences are:\n",
    "1. Numpy arrays can do faster calculations\n",
    "2. List wise calculations"
   ]
  },
  {
   "cell_type": "code",
   "execution_count": 3,
   "metadata": {},
   "outputs": [
    {
     "name": "stdout",
     "output_type": "stream",
     "text": [
      "[230, 3000, 64, 850, 97, 1600]\n"
     ]
    }
   ],
   "source": [
    "Item_MRP    = [230,3000,64,850,97,1600]\n",
    "Item_weight = [100,500,50,250,50,500]\n",
    "print(Item_MRP)"
   ]
  },
  {
   "cell_type": "code",
   "execution_count": 4,
   "metadata": {},
   "outputs": [
    {
     "ename": "TypeError",
     "evalue": "unsupported operand type(s) for ** or pow(): 'list' and 'int'",
     "output_type": "error",
     "traceback": [
      "\u001b[1;31m---------------------------------------------------------------------------\u001b[0m",
      "\u001b[1;31mTypeError\u001b[0m                                 Traceback (most recent call last)",
      "\u001b[1;32m<ipython-input-4-f8c2469c4b7f>\u001b[0m in \u001b[0;36m<module>\u001b[1;34m\u001b[0m\n\u001b[0;32m      3\u001b[0m \u001b[1;31m####2.Assign it to variable: \"Item_punitg\"         #####\u001b[0m\u001b[1;33m\u001b[0m\u001b[1;33m\u001b[0m\u001b[1;33m\u001b[0m\u001b[0m\n\u001b[0;32m      4\u001b[0m \u001b[1;31m#Item_punitg = Item_MRP/Item_weight\u001b[0m\u001b[1;33m\u001b[0m\u001b[1;33m\u001b[0m\u001b[1;33m\u001b[0m\u001b[0m\n\u001b[1;32m----> 5\u001b[1;33m \u001b[0mItem_MRP\u001b[0m\u001b[1;33m**\u001b[0m\u001b[1;36m2\u001b[0m\u001b[1;33m\u001b[0m\u001b[1;33m\u001b[0m\u001b[0m\n\u001b[0m",
      "\u001b[1;31mTypeError\u001b[0m: unsupported operand type(s) for ** or pow(): 'list' and 'int'"
     ]
    }
   ],
   "source": [
    "####EXERCISE####\n",
    "####1.Calculate price unit gram of an item####\n",
    "####2.Assign it to variable: \"Item_punitg\"         #####\n",
    "#Item_punitg = Item_MRP/Item_weight\n",
    "Item_MRP**2"
   ]
  },
  {
   "cell_type": "markdown",
   "metadata": {},
   "source": [
    "List does not support many mathematical calculations! Solution : Numpy arrays!"
   ]
  },
  {
   "cell_type": "code",
   "execution_count": 5,
   "metadata": {},
   "outputs": [
    {
     "name": "stdout",
     "output_type": "stream",
     "text": [
      "[ 230 3000   64  850   97 1600]\n",
      "<class 'numpy.ndarray'>\n"
     ]
    }
   ],
   "source": [
    "import numpy as np\n",
    "#Creating Numpy arrays#\n",
    "np_Item_MRP = np.array(Item_MRP)\n",
    "print(np_Item_MRP)\n",
    "print(type(np_Item_MRP))"
   ]
  },
  {
   "cell_type": "code",
   "execution_count": 6,
   "metadata": {},
   "outputs": [
    {
     "name": "stdout",
     "output_type": "stream",
     "text": [
      "<class 'numpy.ndarray'>\n"
     ]
    }
   ],
   "source": [
    "####Exercise#####\n",
    "####1.Create array for Item_Weight####\n",
    "np_Item_weight=np.array(Item_weight)\n",
    "####2.Array name should be np_Item_Weight####\n",
    "####3.Print the type of the variable####\n",
    "print(type(np_Item_weight))"
   ]
  },
  {
   "cell_type": "code",
   "execution_count": null,
   "metadata": {},
   "outputs": [],
   "source": [
    "####Exercise####\n",
    "####1.Calculate price unit gram of an item####\n",
    "####2.Assign it to variable \"np_Item_punitg\"  and then print it####"
   ]
  },
  {
   "cell_type": "markdown",
   "metadata": {},
   "source": [
    "As we can see above, numpy does element wise calculations.\n",
    "Numpy Remarks:\n",
    "1. Numpy can contain only one data type. Even if you provide different data type, there will be coercion\n",
    "2. '+' operator will do element wise addition in np arrays"
   ]
  },
  {
   "cell_type": "code",
   "execution_count": 7,
   "metadata": {},
   "outputs": [
    {
     "data": {
      "text/plain": [
       "array(['1', 'for', 'True'], dtype='<U11')"
      ]
     },
     "execution_count": 7,
     "metadata": {},
     "output_type": "execute_result"
    }
   ],
   "source": [
    "np.array([1,\"for\",True])"
   ]
  },
  {
   "cell_type": "code",
   "execution_count": 8,
   "metadata": {},
   "outputs": [
    {
     "name": "stdout",
     "output_type": "stream",
     "text": [
      "[1, 1, 1, 1, 1, 1]\n",
      "[2 2 2]\n"
     ]
    }
   ],
   "source": [
    "#compare list and numpy\n",
    "p_list  = [1,1,1]\n",
    "print(p_list + p_list)\n",
    "np_array= np.array([1,1,1])\n",
    "print(np_array+np_array)"
   ]
  },
  {
   "cell_type": "markdown",
   "metadata": {},
   "source": [
    "#### 1.2 Access/Manipulate numpy array ####\n",
    "Exactly same as subsetting/slicing lists"
   ]
  },
  {
   "cell_type": "code",
   "execution_count": 9,
   "metadata": {},
   "outputs": [
    {
     "name": "stdout",
     "output_type": "stream",
     "text": [
      "[ 230 3000   64  850   97 1600]\n",
      "230\n",
      "1600\n",
      "[ 64 850]\n"
     ]
    }
   ],
   "source": [
    "print(np_Item_MRP)\n",
    "#Print first Item\n",
    "print(np_Item_MRP[0])\n",
    "#print last item\n",
    "print(np_Item_MRP[-1])\n",
    "#Slice np_array\n",
    "print(np_Item_MRP[2:4])"
   ]
  },
  {
   "cell_type": "markdown",
   "metadata": {},
   "source": [
    "You can subset numpy array using filtering. You cannot do this in lists"
   ]
  },
  {
   "cell_type": "code",
   "execution_count": 10,
   "metadata": {},
   "outputs": [
    {
     "name": "stdout",
     "output_type": "stream",
     "text": [
      "[False  True False False False  True]\n"
     ]
    },
    {
     "data": {
      "text/plain": [
       "array([3000, 1600])"
      ]
     },
     "execution_count": 10,
     "metadata": {},
     "output_type": "execute_result"
    }
   ],
   "source": [
    "np_Item_MRP > 1000\n",
    "bool = np_Item_MRP > 1000\n",
    "print(bool)\n",
    "np_Item_MRP[bool]\n"
   ]
  },
  {
   "cell_type": "markdown",
   "metadata": {},
   "source": [
    "### Review ###\n",
    "You are an indian salesman importing chocolates from US. The price of these chocolates are available in choc_MRP list.But this price is in USD. Calculate and print the price of these chocolates in INR(Assume an 1USD=70INR)"
   ]
  },
  {
   "cell_type": "code",
   "execution_count": 11,
   "metadata": {},
   "outputs": [
    {
     "name": "stdout",
     "output_type": "stream",
     "text": [
      "[420 840 350 560 700 910]\n"
     ]
    }
   ],
   "source": [
    "choc_MRP = [6,12,5,8,10,13]\n",
    "####Write your code below####\n",
    "np_choc_MRP=np.array(choc_MRP)\n",
    "np_choc_MRP_new = np_choc_MRP * 70\n",
    "print(np_choc_MRP_new)"
   ]
  },
  {
   "cell_type": "markdown",
   "metadata": {},
   "source": [
    "Some chocolates are really expensive! Find out which chocolates are expensive(>500 INR) and print their prices in INR"
   ]
  },
  {
   "cell_type": "code",
   "execution_count": 12,
   "metadata": {},
   "outputs": [
    {
     "name": "stdout",
     "output_type": "stream",
     "text": [
      "[False  True False  True  True  True]\n"
     ]
    },
    {
     "data": {
      "text/plain": [
       "array([840, 560, 700, 910])"
      ]
     },
     "execution_count": 12,
     "metadata": {},
     "output_type": "execute_result"
    }
   ],
   "source": [
    "####Write your code below####\n",
    "bool=np_choc_MRP_new > 500\n",
    "print(bool)\n",
    "np_choc_MRP_new[bool]"
   ]
  },
  {
   "cell_type": "markdown",
   "metadata": {},
   "source": [
    "#### 1.4 2D Numpy Array ####\n",
    "You can have multi dimensional arrays similar as well. In the previous examples, we had two numpy arrays:np_Item_MRP and np_Item_weight. We can merge them into one single array"
   ]
  },
  {
   "cell_type": "code",
   "execution_count": 42,
   "metadata": {},
   "outputs": [
    {
     "name": "stdout",
     "output_type": "stream",
     "text": [
      "[[ 230 3000   64  850   97 1600]\n",
      " [ 100  500   50  250   50  500]]\n",
      "<class 'numpy.ndarray'>\n"
     ]
    }
   ],
   "source": [
    "np_Item = np.array([Item_MRP,Item_weight])\n",
    "print(np_Item)\n",
    "print(type(np_Item))"
   ]
  },
  {
   "cell_type": "code",
   "execution_count": 43,
   "metadata": {},
   "outputs": [
    {
     "data": {
      "text/plain": [
       "(2, 6)"
      ]
     },
     "execution_count": 43,
     "metadata": {},
     "output_type": "execute_result"
    }
   ],
   "source": [
    "np_Item.shape"
   ]
  },
  {
   "cell_type": "markdown",
   "metadata": {},
   "source": [
    "#### 1.5 Subsetting/Slicing Numpy Arrays####\n",
    "<img src=\"img/np_2d.jpg\">"
   ]
  },
  {
   "cell_type": "code",
   "execution_count": 45,
   "metadata": {},
   "outputs": [
    {
     "data": {
      "text/plain": [
       "array([ 230, 3000,   64,  850,   97, 1600])"
      ]
     },
     "execution_count": 45,
     "metadata": {},
     "output_type": "execute_result"
    }
   ],
   "source": [
    "#print 0th row\n",
    "np_Item[0]"
   ]
  },
  {
   "cell_type": "code",
   "execution_count": 46,
   "metadata": {},
   "outputs": [
    {
     "data": {
      "text/plain": [
       "850"
      ]
     },
     "execution_count": 46,
     "metadata": {},
     "output_type": "execute_result"
    }
   ],
   "source": [
    "#print the value at 0th row 3rd column\n",
    "np_Item[0][3]"
   ]
  },
  {
   "cell_type": "code",
   "execution_count": 47,
   "metadata": {},
   "outputs": [
    {
     "data": {
      "text/plain": [
       "850"
      ]
     },
     "execution_count": 47,
     "metadata": {},
     "output_type": "execute_result"
    }
   ],
   "source": [
    "#Alternatie way\n",
    "np_Item[0,3]"
   ]
  },
  {
   "cell_type": "code",
   "execution_count": 49,
   "metadata": {},
   "outputs": [
    {
     "data": {
      "text/plain": [
       "array([ 230, 3000])"
      ]
     },
     "execution_count": 49,
     "metadata": {},
     "output_type": "execute_result"
    }
   ],
   "source": [
    "#Slicing rows and columns\n",
    "np_Item[0,0:2]"
   ]
  },
  {
   "cell_type": "code",
   "execution_count": 50,
   "metadata": {},
   "outputs": [
    {
     "data": {
      "text/plain": [
       "array([[ 230, 3000],\n",
       "       [ 100,  500]])"
      ]
     },
     "execution_count": 50,
     "metadata": {},
     "output_type": "execute_result"
    }
   ],
   "source": [
    "#Slicing rows and columns\n",
    "np_Item[:,0:2]"
   ]
  },
  {
   "cell_type": "code",
   "execution_count": 51,
   "metadata": {},
   "outputs": [
    {
     "data": {
      "text/plain": [
       "array([[ 230, 3000,   64,  850,   97, 1600],\n",
       "       [ 100,  500,   50,  250,   50,  500]])"
      ]
     },
     "execution_count": 51,
     "metadata": {},
     "output_type": "execute_result"
    }
   ],
   "source": [
    "#Slicing rows and columns\n",
    "np_Item[:,:]"
   ]
  },
  {
   "cell_type": "code",
   "execution_count": 52,
   "metadata": {},
   "outputs": [
    {
     "data": {
      "text/plain": [
       "array([100, 500,  50, 250,  50, 500])"
      ]
     },
     "execution_count": 52,
     "metadata": {},
     "output_type": "execute_result"
    }
   ],
   "source": [
    "#Slicing rows and columns\n",
    "np_Item[1,:]"
   ]
  },
  {
   "cell_type": "markdown",
   "metadata": {},
   "source": [
    "### Review ###\n",
    "Earlier you had the chocolate MRP in USD in a list. Now you also have their weights in a list.<br/>\n",
    "1. Create a 2d array \"np_chocolate\"\n",
    "2. Print the type of np_chocolate"
   ]
  },
  {
   "cell_type": "code",
   "execution_count": 55,
   "metadata": {},
   "outputs": [],
   "source": [
    "choc_MRP = [6,12,5,8,10,13]\n",
    "choc_weight = [10,50,20,10,250]\n",
    "####Write your code below####\n",
    "np_choc=np.array([choc_MRP,choc_weight])"
   ]
  },
  {
   "cell_type": "code",
   "execution_count": 13,
   "metadata": {},
   "outputs": [
    {
     "ename": "NameError",
     "evalue": "name 'np_choc' is not defined",
     "output_type": "error",
     "traceback": [
      "\u001b[1;31m---------------------------------------------------------------------------\u001b[0m",
      "\u001b[1;31mNameError\u001b[0m                                 Traceback (most recent call last)",
      "\u001b[1;32m<ipython-input-13-5295f33e8a78>\u001b[0m in \u001b[0;36m<module>\u001b[1;34m\u001b[0m\n\u001b[0;32m      1\u001b[0m \u001b[1;31m####Exercise####\u001b[0m\u001b[1;33m\u001b[0m\u001b[1;33m\u001b[0m\u001b[1;33m\u001b[0m\u001b[0m\n\u001b[0;32m      2\u001b[0m \u001b[1;31m####1.Print the MRP of 4th chocolate####\u001b[0m\u001b[1;33m\u001b[0m\u001b[1;33m\u001b[0m\u001b[1;33m\u001b[0m\u001b[0m\n\u001b[1;32m----> 3\u001b[1;33m \u001b[0mnp_choc\u001b[0m\u001b[1;33m[\u001b[0m\u001b[1;36m0\u001b[0m\u001b[1;33m]\u001b[0m\u001b[1;33m[\u001b[0m\u001b[1;36m3\u001b[0m\u001b[1;33m]\u001b[0m\u001b[1;33m\u001b[0m\u001b[1;33m\u001b[0m\u001b[0m\n\u001b[0m\u001b[0;32m      4\u001b[0m \u001b[1;31m####2.Print the weight of 4th chocolate####\u001b[0m\u001b[1;33m\u001b[0m\u001b[1;33m\u001b[0m\u001b[1;33m\u001b[0m\u001b[0m\n\u001b[0;32m      5\u001b[0m \u001b[0mnp_choc\u001b[0m\u001b[1;33m[\u001b[0m\u001b[1;36m1\u001b[0m\u001b[1;33m]\u001b[0m\u001b[1;33m[\u001b[0m\u001b[1;36m3\u001b[0m\u001b[1;33m]\u001b[0m\u001b[1;33m\u001b[0m\u001b[1;33m\u001b[0m\u001b[0m\n",
      "\u001b[1;31mNameError\u001b[0m: name 'np_choc' is not defined"
     ]
    }
   ],
   "source": [
    "####Exercise####\n",
    "####1.Print the MRP of 4th chocolate####\n",
    "np_choc[0][3]\n",
    "####2.Print the weight of 4th chocolate####\n",
    "np_choc[1][3]\n",
    "####3.Print the weight of first three chocolates####\n",
    "np_choc[1][0:3]\n",
    "####4.Print the MRP of all those chocolates whose weight is 10####"
   ]
  },
  {
   "cell_type": "markdown",
   "metadata": {},
   "source": [
    "#### 1.8 Numpy Statistics ####\n",
    "We can calculate descriptive statistics for numpy arrays such as mean,median,min,max,sum,sort etc."
   ]
  },
  {
   "cell_type": "code",
   "execution_count": 59,
   "metadata": {},
   "outputs": [
    {
     "data": {
      "text/plain": [
       "973.5"
      ]
     },
     "execution_count": 59,
     "metadata": {},
     "output_type": "execute_result"
    }
   ],
   "source": [
    "####Mean MRP of all Items###\n",
    "np.mean(np_Item_MRP)"
   ]
  },
  {
   "cell_type": "code",
   "execution_count": 61,
   "metadata": {},
   "outputs": [
    {
     "data": {
      "text/plain": [
       "175.0"
      ]
     },
     "execution_count": 61,
     "metadata": {},
     "output_type": "execute_result"
    }
   ],
   "source": [
    "np.median(np.array(Item_weight))"
   ]
  },
  {
   "cell_type": "code",
   "execution_count": 62,
   "metadata": {},
   "outputs": [
    {
     "data": {
      "text/plain": [
       "1053.7782420098326"
      ]
     },
     "execution_count": 62,
     "metadata": {},
     "output_type": "execute_result"
    }
   ],
   "source": [
    "np.std(np_Item_MRP)"
   ]
  },
  {
   "cell_type": "code",
   "execution_count": 63,
   "metadata": {},
   "outputs": [
    {
     "data": {
      "text/plain": [
       "array([[1.        , 0.92027866],\n",
       "       [0.92027866, 1.        ]])"
      ]
     },
     "execution_count": 63,
     "metadata": {},
     "output_type": "execute_result"
    }
   ],
   "source": [
    "np.corrcoef(np_Item_MRP,np.array(Item_weight))"
   ]
  },
  {
   "cell_type": "markdown",
   "metadata": {},
   "source": [
    "#### Review ####\n",
    "You have two numpy arrays for chocolate MRP and weight.\n",
    "Calculate their descriptive statistic and print it."
   ]
  },
  {
   "cell_type": "code",
   "execution_count": 64,
   "metadata": {},
   "outputs": [],
   "source": [
    "np_choc_MRP    = np.array(choc_MRP)\n",
    "np_choc_weight = np.array(choc_weight)"
   ]
  },
  {
   "cell_type": "code",
   "execution_count": 66,
   "metadata": {},
   "outputs": [],
   "source": [
    "####Exercise####\n",
    "####1.Calculate the median MRP of chocolates####\n",
    "####2. Calculate the mean MRP of chocolate in INR####\n",
    "####3. Calculate the std of chocolate's weight####\n",
    "####4.Calculate the mean weight of expensive chocolates####"
   ]
  }
 ],
 "metadata": {
  "kernelspec": {
   "display_name": "Python 3",
   "language": "python",
   "name": "python3"
  },
  "language_info": {
   "codemirror_mode": {
    "name": "ipython",
    "version": 3
   },
   "file_extension": ".py",
   "mimetype": "text/x-python",
   "name": "python",
   "nbconvert_exporter": "python",
   "pygments_lexer": "ipython3",
   "version": "3.7.3"
  }
 },
 "nbformat": 4,
 "nbformat_minor": 2
}
