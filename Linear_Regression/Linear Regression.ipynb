{
 "cells": [
  {
   "cell_type": "markdown",
   "metadata": {},
   "source": [
    "In supervised learning, when the model predicts continuous or real values based on a training dataset is called it is called as a Regression model. We will learn how to solve regression problems using boston housing dataset.\n",
    "#### Boston Housing Dataset #####\n",
    "In this dataset, each row describes a row or suburb of boston. Our objective is to predict the price of the house given columns that describe a house in boston. Let's load the data and explore."
   ]
  },
  {
   "cell_type": "code",
   "execution_count": 4,
   "metadata": {},
   "outputs": [],
   "source": [
    "#Import the necessary libraries\n",
    "import pandas as pd\n",
    "import numpy as np\n",
    "import matplotlib.pyplot as plt"
   ]
  },
  {
   "cell_type": "code",
   "execution_count": 5,
   "metadata": {},
   "outputs": [],
   "source": [
    "####Exercise: Read Boston Data ####\n",
    "boston = pd.read_csv(\"Data/boston.csv\")"
   ]
  },
  {
   "cell_type": "markdown",
   "metadata": {},
   "source": [
    "Explore Data!"
   ]
  },
  {
   "cell_type": "code",
   "execution_count": 6,
   "metadata": {},
   "outputs": [],
   "source": [
    "####Exercise: Print the top 5 rows of data####"
   ]
  },
  {
   "cell_type": "code",
   "execution_count": 7,
   "metadata": {},
   "outputs": [],
   "source": [
    "####Exercise: Print the column names####"
   ]
  },
  {
   "cell_type": "markdown",
   "metadata": {},
   "source": [
    "Below is the description of information of columns:\n",
    "<img src=\"img/datainfo.jpg\">\n",
    "What is the target variable?"
   ]
  },
  {
   "cell_type": "code",
   "execution_count": 14,
   "metadata": {},
   "outputs": [
    {
     "name": "stdout",
     "output_type": "stream",
     "text": [
      "<class 'numpy.ndarray'>\n"
     ]
    }
   ],
   "source": [
    "####Create input and output####\n",
    "X = boston.drop(\"MEDV\",axis=1).values\n",
    "y = boston[\"MEDV\"].values\n",
    "print(type(y))"
   ]
  },
  {
   "cell_type": "code",
   "execution_count": 18,
   "metadata": {},
   "outputs": [
    {
     "name": "stdout",
     "output_type": "stream",
     "text": [
      "[[24. ]\n",
      " [21.6]\n",
      " [34.7]\n",
      " [33.4]\n",
      " [36.2]\n",
      " [28.7]\n",
      " [22.9]\n",
      " [27.1]\n",
      " [16.5]\n",
      " [18.9]\n",
      " [15. ]\n",
      " [18.9]\n",
      " [21.7]\n",
      " [20.4]\n",
      " [18.2]\n",
      " [19.9]\n",
      " [23.1]\n",
      " [17.5]\n",
      " [20.2]\n",
      " [18.2]\n",
      " [13.6]\n",
      " [19.6]\n",
      " [15.2]\n",
      " [14.5]\n",
      " [15.6]\n",
      " [13.9]\n",
      " [16.6]\n",
      " [14.8]\n",
      " [18.4]\n",
      " [21. ]\n",
      " [12.7]\n",
      " [14.5]\n",
      " [13.2]\n",
      " [13.1]\n",
      " [13.5]\n",
      " [18.9]\n",
      " [20. ]\n",
      " [21. ]\n",
      " [24.7]\n",
      " [30.8]\n",
      " [34.9]\n",
      " [26.6]\n",
      " [25.3]\n",
      " [24.7]\n",
      " [21.2]\n",
      " [19.3]\n",
      " [20. ]\n",
      " [16.6]\n",
      " [14.4]\n",
      " [19.4]\n",
      " [19.7]\n",
      " [20.5]\n",
      " [25. ]\n",
      " [23.4]\n",
      " [18.9]\n",
      " [35.4]\n",
      " [24.7]\n",
      " [31.6]\n",
      " [23.3]\n",
      " [19.6]\n",
      " [18.7]\n",
      " [16. ]\n",
      " [22.2]\n",
      " [25. ]\n",
      " [33. ]\n",
      " [23.5]\n",
      " [19.4]\n",
      " [22. ]\n",
      " [17.4]\n",
      " [20.9]\n",
      " [24.2]\n",
      " [21.7]\n",
      " [22.8]\n",
      " [23.4]\n",
      " [24.1]\n",
      " [21.4]\n",
      " [20. ]\n",
      " [20.8]\n",
      " [21.2]\n",
      " [20.3]\n",
      " [28. ]\n",
      " [23.9]\n",
      " [24.8]\n",
      " [22.9]\n",
      " [23.9]\n",
      " [26.6]\n",
      " [22.5]\n",
      " [22.2]\n",
      " [23.6]\n",
      " [28.7]\n",
      " [22.6]\n",
      " [22. ]\n",
      " [22.9]\n",
      " [25. ]\n",
      " [20.6]\n",
      " [28.4]\n",
      " [21.4]\n",
      " [38.7]\n",
      " [43.8]\n",
      " [33.2]\n",
      " [27.5]\n",
      " [26.5]\n",
      " [18.6]\n",
      " [19.3]\n",
      " [20.1]\n",
      " [19.5]\n",
      " [19.5]\n",
      " [20.4]\n",
      " [19.8]\n",
      " [19.4]\n",
      " [21.7]\n",
      " [22.8]\n",
      " [18.8]\n",
      " [18.7]\n",
      " [18.5]\n",
      " [18.3]\n",
      " [21.2]\n",
      " [19.2]\n",
      " [20.4]\n",
      " [19.3]\n",
      " [22. ]\n",
      " [20.3]\n",
      " [20.5]\n",
      " [17.3]\n",
      " [18.8]\n",
      " [21.4]\n",
      " [15.7]\n",
      " [16.2]\n",
      " [18. ]\n",
      " [14.3]\n",
      " [19.2]\n",
      " [19.6]\n",
      " [23. ]\n",
      " [18.4]\n",
      " [15.6]\n",
      " [18.1]\n",
      " [17.4]\n",
      " [17.1]\n",
      " [13.3]\n",
      " [17.8]\n",
      " [14. ]\n",
      " [14.4]\n",
      " [13.4]\n",
      " [15.6]\n",
      " [11.8]\n",
      " [13.8]\n",
      " [15.6]\n",
      " [14.6]\n",
      " [17.8]\n",
      " [15.4]\n",
      " [21.5]\n",
      " [19.6]\n",
      " [15.3]\n",
      " [19.4]\n",
      " [17. ]\n",
      " [15.6]\n",
      " [13.1]\n",
      " [41.3]\n",
      " [24.3]\n",
      " [23.3]\n",
      " [27. ]\n",
      " [50. ]\n",
      " [50. ]\n",
      " [50. ]\n",
      " [22.7]\n",
      " [25. ]\n",
      " [50. ]\n",
      " [23.8]\n",
      " [23.8]\n",
      " [22.3]\n",
      " [17.4]\n",
      " [19.1]\n",
      " [23.1]\n",
      " [23.6]\n",
      " [22.6]\n",
      " [29.4]\n",
      " [23.2]\n",
      " [24.6]\n",
      " [29.9]\n",
      " [37.2]\n",
      " [39.8]\n",
      " [36.2]\n",
      " [37.9]\n",
      " [32.5]\n",
      " [26.4]\n",
      " [29.6]\n",
      " [50. ]\n",
      " [32. ]\n",
      " [29.8]\n",
      " [34.9]\n",
      " [37. ]\n",
      " [30.5]\n",
      " [36.4]\n",
      " [31.1]\n",
      " [29.1]\n",
      " [50. ]\n",
      " [33.3]\n",
      " [30.3]\n",
      " [34.6]\n",
      " [34.9]\n",
      " [32.9]\n",
      " [24.1]\n",
      " [42.3]\n",
      " [48.5]\n",
      " [50. ]\n",
      " [22.6]\n",
      " [24.4]\n",
      " [22.5]\n",
      " [24.4]\n",
      " [20. ]\n",
      " [21.7]\n",
      " [19.3]\n",
      " [22.4]\n",
      " [28.1]\n",
      " [23.7]\n",
      " [25. ]\n",
      " [23.3]\n",
      " [28.7]\n",
      " [21.5]\n",
      " [23. ]\n",
      " [26.7]\n",
      " [21.7]\n",
      " [27.5]\n",
      " [30.1]\n",
      " [44.8]\n",
      " [50. ]\n",
      " [37.6]\n",
      " [31.6]\n",
      " [46.7]\n",
      " [31.5]\n",
      " [24.3]\n",
      " [31.7]\n",
      " [41.7]\n",
      " [48.3]\n",
      " [29. ]\n",
      " [24. ]\n",
      " [25.1]\n",
      " [31.5]\n",
      " [23.7]\n",
      " [23.3]\n",
      " [22. ]\n",
      " [20.1]\n",
      " [22.2]\n",
      " [23.7]\n",
      " [17.6]\n",
      " [18.5]\n",
      " [24.3]\n",
      " [20.5]\n",
      " [24.5]\n",
      " [26.2]\n",
      " [24.4]\n",
      " [24.8]\n",
      " [29.6]\n",
      " [42.8]\n",
      " [21.9]\n",
      " [20.9]\n",
      " [44. ]\n",
      " [50. ]\n",
      " [36. ]\n",
      " [30.1]\n",
      " [33.8]\n",
      " [43.1]\n",
      " [48.8]\n",
      " [31. ]\n",
      " [36.5]\n",
      " [22.8]\n",
      " [30.7]\n",
      " [50. ]\n",
      " [43.5]\n",
      " [20.7]\n",
      " [21.1]\n",
      " [25.2]\n",
      " [24.4]\n",
      " [35.2]\n",
      " [32.4]\n",
      " [32. ]\n",
      " [33.2]\n",
      " [33.1]\n",
      " [29.1]\n",
      " [35.1]\n",
      " [45.4]\n",
      " [35.4]\n",
      " [46. ]\n",
      " [50. ]\n",
      " [32.2]\n",
      " [22. ]\n",
      " [20.1]\n",
      " [23.2]\n",
      " [22.3]\n",
      " [24.8]\n",
      " [28.5]\n",
      " [37.3]\n",
      " [27.9]\n",
      " [23.9]\n",
      " [21.7]\n",
      " [28.6]\n",
      " [27.1]\n",
      " [20.3]\n",
      " [22.5]\n",
      " [29. ]\n",
      " [24.8]\n",
      " [22. ]\n",
      " [26.4]\n",
      " [33.1]\n",
      " [36.1]\n",
      " [28.4]\n",
      " [33.4]\n",
      " [28.2]\n",
      " [22.8]\n",
      " [20.3]\n",
      " [16.1]\n",
      " [22.1]\n",
      " [19.4]\n",
      " [21.6]\n",
      " [23.8]\n",
      " [16.2]\n",
      " [17.8]\n",
      " [19.8]\n",
      " [23.1]\n",
      " [21. ]\n",
      " [23.8]\n",
      " [23.1]\n",
      " [20.4]\n",
      " [18.5]\n",
      " [25. ]\n",
      " [24.6]\n",
      " [23. ]\n",
      " [22.2]\n",
      " [19.3]\n",
      " [22.6]\n",
      " [19.8]\n",
      " [17.1]\n",
      " [19.4]\n",
      " [22.2]\n",
      " [20.7]\n",
      " [21.1]\n",
      " [19.5]\n",
      " [18.5]\n",
      " [20.6]\n",
      " [19. ]\n",
      " [18.7]\n",
      " [32.7]\n",
      " [16.5]\n",
      " [23.9]\n",
      " [31.2]\n",
      " [17.5]\n",
      " [17.2]\n",
      " [23.1]\n",
      " [24.5]\n",
      " [26.6]\n",
      " [22.9]\n",
      " [24.1]\n",
      " [18.6]\n",
      " [30.1]\n",
      " [18.2]\n",
      " [20.6]\n",
      " [17.8]\n",
      " [21.7]\n",
      " [22.7]\n",
      " [22.6]\n",
      " [25. ]\n",
      " [19.9]\n",
      " [20.8]\n",
      " [16.8]\n",
      " [21.9]\n",
      " [27.5]\n",
      " [21.9]\n",
      " [23.1]\n",
      " [50. ]\n",
      " [50. ]\n",
      " [50. ]\n",
      " [50. ]\n",
      " [50. ]\n",
      " [13.8]\n",
      " [13.8]\n",
      " [15. ]\n",
      " [13.9]\n",
      " [13.3]\n",
      " [13.1]\n",
      " [10.2]\n",
      " [10.4]\n",
      " [10.9]\n",
      " [11.3]\n",
      " [12.3]\n",
      " [ 8.8]\n",
      " [ 7.2]\n",
      " [10.5]\n",
      " [ 7.4]\n",
      " [10.2]\n",
      " [11.5]\n",
      " [15.1]\n",
      " [23.2]\n",
      " [ 9.7]\n",
      " [13.8]\n",
      " [12.7]\n",
      " [13.1]\n",
      " [12.5]\n",
      " [ 8.5]\n",
      " [ 5. ]\n",
      " [ 6.3]\n",
      " [ 5.6]\n",
      " [ 7.2]\n",
      " [12.1]\n",
      " [ 8.3]\n",
      " [ 8.5]\n",
      " [ 5. ]\n",
      " [11.9]\n",
      " [27.9]\n",
      " [17.2]\n",
      " [27.5]\n",
      " [15. ]\n",
      " [17.2]\n",
      " [17.9]\n",
      " [16.3]\n",
      " [ 7. ]\n",
      " [ 7.2]\n",
      " [ 7.5]\n",
      " [10.4]\n",
      " [ 8.8]\n",
      " [ 8.4]\n",
      " [16.7]\n",
      " [14.2]\n",
      " [20.8]\n",
      " [13.4]\n",
      " [11.7]\n",
      " [ 8.3]\n",
      " [10.2]\n",
      " [10.9]\n",
      " [11. ]\n",
      " [ 9.5]\n",
      " [14.5]\n",
      " [14.1]\n",
      " [16.1]\n",
      " [14.3]\n",
      " [11.7]\n",
      " [13.4]\n",
      " [ 9.6]\n",
      " [ 8.7]\n",
      " [ 8.4]\n",
      " [12.8]\n",
      " [10.5]\n",
      " [17.1]\n",
      " [18.4]\n",
      " [15.4]\n",
      " [10.8]\n",
      " [11.8]\n",
      " [14.9]\n",
      " [12.6]\n",
      " [14.1]\n",
      " [13. ]\n",
      " [13.4]\n",
      " [15.2]\n",
      " [16.1]\n",
      " [17.8]\n",
      " [14.9]\n",
      " [14.1]\n",
      " [12.7]\n",
      " [13.5]\n",
      " [14.9]\n",
      " [20. ]\n",
      " [16.4]\n",
      " [17.7]\n",
      " [19.5]\n",
      " [20.2]\n",
      " [21.4]\n",
      " [19.9]\n",
      " [19. ]\n",
      " [19.1]\n",
      " [19.1]\n",
      " [20.1]\n",
      " [19.9]\n",
      " [19.6]\n",
      " [23.2]\n",
      " [29.8]\n",
      " [13.8]\n",
      " [13.3]\n",
      " [16.7]\n",
      " [12. ]\n",
      " [14.6]\n",
      " [21.4]\n",
      " [23. ]\n",
      " [23.7]\n",
      " [25. ]\n",
      " [21.8]\n",
      " [20.6]\n",
      " [21.2]\n",
      " [19.1]\n",
      " [20.6]\n",
      " [15.2]\n",
      " [ 7. ]\n",
      " [ 8.1]\n",
      " [13.6]\n",
      " [20.1]\n",
      " [21.8]\n",
      " [24.5]\n",
      " [23.1]\n",
      " [19.7]\n",
      " [18.3]\n",
      " [21.2]\n",
      " [17.5]\n",
      " [16.8]\n",
      " [22.4]\n",
      " [20.6]\n",
      " [23.9]\n",
      " [22. ]\n",
      " [11.9]]\n"
     ]
    }
   ],
   "source": [
    "print(y.reshape(-1,1))"
   ]
  },
  {
   "attachments": {
    "image.png": {
     "image/png": "[encoded data removed]"
    }
   },
   "cell_type": "markdown",
   "metadata": {},
   "source": [
    "### Simple Linear Regression ###\n",
    "Predicting house value from a single feature.<br/>\n",
    "![image.png](attachment:image.png)\n",
    "Line Equation: y=mx+c <br/>\n",
    "Build a linear regression model to predict house value from average number of rooms per dwelling(RM)"
   ]
  },
  {
   "cell_type": "code",
   "execution_count": 9,
   "metadata": {},
   "outputs": [
    {
     "name": "stdout",
     "output_type": "stream",
     "text": [
      "<class 'numpy.ndarray'>\n"
     ]
    }
   ],
   "source": [
    "avg_rooms = X[:,5]\n",
    "print(type(avg_rooms))\n",
    "y         = y.reshape(-1,1)\n",
    "avg_rooms = avg_rooms.reshape(-1,1)"
   ]
  },
  {
   "cell_type": "code",
   "execution_count": null,
   "metadata": {},
   "outputs": [],
   "source": []
  },
  {
   "cell_type": "code",
   "execution_count": 10,
   "metadata": {},
   "outputs": [
    {
     "data": {
      "image/png": "[encoded data removed]",
      "text/plain": [
       "<Figure size 432x288 with 1 Axes>"
      ]
     },
     "metadata": {
      "needs_background": "light"
     },
     "output_type": "display_data"
    }
   ],
   "source": [
    "plt.scatter(avg_rooms,y)\n",
    "plt.ylabel('Value of house/1000$')\n",
    "plt.xlabel('Number of rooms')\n",
    "plt.show()"
   ]
  },
  {
   "cell_type": "markdown",
   "metadata": {},
   "source": [
    "#### Fitting a simple Regression Model ####"
   ]
  },
  {
   "cell_type": "code",
   "execution_count": 11,
   "metadata": {},
   "outputs": [
    {
     "data": {
      "text/plain": [
       "LinearRegression(copy_X=True, fit_intercept=True, n_jobs=None, normalize=False)"
      ]
     },
     "execution_count": 11,
     "metadata": {},
     "output_type": "execute_result"
    }
   ],
   "source": [
    "#Training a model#\n",
    "from sklearn.linear_model import LinearRegression\n",
    "lreg_mod1 = LinearRegression()\n",
    "lreg_mod1.fit(avg_rooms,y)"
   ]
  },
  {
   "cell_type": "markdown",
   "metadata": {},
   "source": [
    "Check the results by plotting"
   ]
  },
  {
   "cell_type": "code",
   "execution_count": 13,
   "metadata": {},
   "outputs": [
    {
     "data": {
      "image/png": "[encoded data removed]",
      "text/plain": [
       "<Figure size 432x288 with 1 Axes>"
      ]
     },
     "metadata": {
      "needs_background": "light"
     },
     "output_type": "display_data"
    }
   ],
   "source": [
    "prediction_range = np.linspace(min(avg_rooms),max(avg_rooms)).reshape(-1,1)\n",
    "y_pred           = lreg_mod1.predict(prediction_range)\n",
    "\n",
    "plt.scatter(avg_rooms,y,color='blue')\n",
    "plt.plot(prediction_range,y_pred,color='black',linewidth=3)\n",
    "plt.show()"
   ]
  },
  {
   "cell_type": "markdown",
   "metadata": {},
   "source": [
    "#### Exercise ####\n",
    "Build a simple regression model to predict the house price using the nitrix oxides concentration (NOX)"
   ]
  },
  {
   "cell_type": "code",
   "execution_count": 26,
   "metadata": {},
   "outputs": [
    {
     "name": "stdout",
     "output_type": "stream",
     "text": [
      "<class 'numpy.ndarray'>\n",
      "<class 'numpy.ndarray'>\n"
     ]
    }
   ],
   "source": [
    "#### Select the Input and output####\n",
    "#### Write Your Code Below####\n",
    "X = boston.drop(\"MEDV\",axis=1).values\n",
    "y = boston[\"MEDV\"].values\n",
    "print(type(y))\n",
    "NOX = X[:,4]\n",
    "print(type(NOX))\n",
    "y         = y.reshape(-1,1)\n",
    "NOX = NOX.reshape(-1,1)"
   ]
  },
  {
   "cell_type": "code",
   "execution_count": 27,
   "metadata": {},
   "outputs": [
    {
     "data": {
      "image/png": "[encoded data removed]",
      "text/plain": [
       "<Figure size 432x288 with 1 Axes>"
      ]
     },
     "metadata": {
      "needs_background": "light"
     },
     "output_type": "display_data"
    }
   ],
   "source": [
    "#### Do Bi-variate analysis of target variable and input(scatter plot)####\n",
    "#### Write Your Code Below####\n",
    "plt.scatter(NOX,y)\n",
    "plt.ylabel('Value of house/1000$')\n",
    "plt.xlabel('NOX')\n",
    "plt.show()"
   ]
  },
  {
   "cell_type": "code",
   "execution_count": 28,
   "metadata": {},
   "outputs": [
    {
     "data": {
      "text/plain": [
       "LinearRegression(copy_X=True, fit_intercept=True, n_jobs=None, normalize=False)"
      ]
     },
     "execution_count": 28,
     "metadata": {},
     "output_type": "execute_result"
    }
   ],
   "source": [
    "#### Fit/Train a regression model.The model should be named 'lreg_mod2' ####\n",
    "#### Write Your Code Below ####\n",
    "from sklearn.linear_model import LinearRegression\n",
    "lreg_mod1 = LinearRegression()\n",
    "lreg_mod1.fit(NOX,y)"
   ]
  },
  {
   "cell_type": "code",
   "execution_count": 29,
   "metadata": {},
   "outputs": [
    {
     "data": {
      "image/png": "[encoded data removed]",
      "text/plain": [
       "<Figure size 432x288 with 1 Axes>"
      ]
     },
     "metadata": {
      "needs_background": "light"
     },
     "output_type": "display_data"
    }
   ],
   "source": [
    "#### Check the results by plotting ####\n",
    "#### Write your code below ####\n",
    "prediction_range = np.linspace(min(NOX),max(NOX)).reshape(-1,1)\n",
    "y_pred           = lreg_mod1.predict(prediction_range)\n",
    "\n",
    "plt.scatter(avg_rooms,y,color='blue')\n",
    "plt.plot(prediction_range,y_pred,color='black',linewidth=3)\n",
    "plt.show()"
   ]
  },
  {
   "attachments": {
    "image.png": {
     "image/png": "[encoded data removed]"
    }
   },
   "cell_type": "markdown",
   "metadata": {},
   "source": [
    "### Basics of Linear Regression ###\n",
    "#### How did we get only those lines? ####\n",
    "In linear regression we want to fit a line on the data. For simplicity consider line in 2 dimensions. Then the equation of the line can be written as \n",
    "#### y=mx+c ####\n",
    "We rewrite this in the following forms:\n",
    "![image.png](attachment:image.png)\n",
    "<img src=\"img/line_eq.JPG\">\n",
    "where y is the target variable <br/>\n",
    "x is the input(feature) <br/>\n",
    "𝜃_0,𝜃_1 are the parameters we want to learn(find the slope and y intercept of the line) <br/>\n",
    "But how do we find the values for 𝜃_0,𝜃_1? <br/>\n",
    "We find that by defining an error function. We want the error to be as low as possible. So we will select that line(with slope 𝜃_0 and intercept 𝜃_1) which gives the minimum error. We also call error function as cost function/loss function.\n",
    "#### Error Function ####\n",
    "In linear regression we want to fit a line on the data.We want the line to stay close to as many data points as possible for accurate predictions. If the data points are very far, then there is a huge gap between the prediction and the actual, which is error. We call the error residuals, defined as <br/>\n",
    "#### residuals = ∑ (y_actual- y_pred)\n",
    "We can visualize residuals as the vertical distance between the actual and the predicted values.\n",
    "<img src=\"img/residuals.JPG\">\n",
    "\n",
    "So, can we take the sum of these residuals as the error function? The answer's no. Because when you take the sum of residuals, the positive error cancels out the negative error. Thus, we take sum of the square of residuals as out cost function given by,<br/> \n",
    "<img src=\"img/cfun.JPG\">\n",
    "For whichever line, the cost function is low we will choose that as the best line.\n",
    "We can also consider which linear regressionmodel is best by checking the above cost function.\n",
    "Lets calculate the cost function for both of our models."
   ]
  },
  {
   "cell_type": "code",
   "execution_count": 34,
   "metadata": {},
   "outputs": [
    {
     "name": "stdout",
     "output_type": "stream",
     "text": [
      "43.60055177116956\n"
     ]
    }
   ],
   "source": [
    "#### For model 1 ####\n",
    "from sklearn.metrics import mean_squared_error \n",
    "y_pred = lreg_mod1.predict(avg_rooms)\n",
    "print(mean_squared_error(y, y_pred) )"
   ]
  },
  {
   "cell_type": "code",
   "execution_count": 30,
   "metadata": {},
   "outputs": [
    {
     "name": "stdout",
     "output_type": "stream",
     "text": [
      "69.00428835540669\n"
     ]
    }
   ],
   "source": [
    "#### Exercise: Calculate mean square error for model2 ####\n",
    "#### Write your code below ####\n",
    "from sklearn.metrics import mean_squared_error \n",
    "y_pred = lreg_mod1.predict(NOX)\n",
    "print(mean_squared_error(y, y_pred) )"
   ]
  },
  {
   "attachments": {
    "image.png": {
     "image/png": "[encoded data removed]"
    }
   },
   "cell_type": "markdown",
   "metadata": {},
   "source": [
    "#### Multi variate Linear Regression ####\n",
    "Here you fit a line in higher dimensions\n",
    "\n",
    "![image.png](attachment:image.png)\n",
    "Let's select all features and build the model"
   ]
  },
  {
   "cell_type": "code",
   "execution_count": 53,
   "metadata": {},
   "outputs": [
    {
     "name": "stdout",
     "output_type": "stream",
     "text": [
      "21.894831181729206\n"
     ]
    }
   ],
   "source": [
    "lreg_all.fit(X, y)\n",
    "y_pred = lreg_all.predict(X)\n",
    "print(mean_squared_error(y, y_pred))"
   ]
  },
  {
   "cell_type": "markdown",
   "metadata": {},
   "source": [
    "#### Metric 2\n",
    "R-squared is a statistical measure that’s used to assess the goodness of fit of our regression model.\n",
    "\n",
    "In R-squared we have a baseline model which is the worst model. This baseline model doesn’t make use of any independent variables to predict the value of dependent variable Y. Instead it uses the mean of the observed responses of dependent variable Y and always predicts this mean as the value of Y.\n",
    "\n",
    "Any regression model that we fit is compared to this baseline model to understand it’s goodness of fit.\n",
    "In other words R-squared simply explains how good is your model when compared to the baseline model\n",
    "\n",
    "\n",
    "<img src=\"img/r2.jpg\">\n",
    "<img src=\"img/adjusted_r2.JPG\">"
   ]
  },
  {
   "cell_type": "code",
   "execution_count": 31,
   "metadata": {},
   "outputs": [
    {
     "name": "stdout",
     "output_type": "stream",
     "text": [
      "19.83132367206296\n"
     ]
    }
   ],
   "source": [
    "from sklearn.model_selection import train_test_split\n",
    "X_train, X_test, y_train, y_test = train_test_split(X, y,test_size = 0.3, random_state=1) \n",
    "lreg_all = LinearRegression() \n",
    "lreg_all.fit(X_train, y_train)\n",
    "y_pred = lreg_all.predict(X_test)\n",
    "print(mean_squared_error(y_test, y_pred))"
   ]
  },
  {
   "cell_type": "code",
   "execution_count": 41,
   "metadata": {},
   "outputs": [
    {
     "data": {
      "text/plain": [
       "0.7112260057484929"
      ]
     },
     "execution_count": 41,
     "metadata": {},
     "output_type": "execute_result"
    }
   ],
   "source": [
    "#### Metric 2 : Rsquare ####\n",
    "from sklearn.metrics import r2_score \n",
    "r2_score(y_test,y_pred)"
   ]
  },
  {
   "cell_type": "code",
   "execution_count": 52,
   "metadata": {},
   "outputs": [],
   "source": [
    "#### Exercise: Calculate Rsquare for model1 and model2 and print it ####\n",
    "#### Exercise: Calculate AdjustedRSquare for model1 and model2 and print it####"
   ]
  },
  {
   "cell_type": "markdown",
   "metadata": {},
   "source": [
    "The mean squared error has decreased significantly!!"
   ]
  },
  {
   "cell_type": "markdown",
   "metadata": {},
   "source": [
    "### Cross Validation ###\n",
    "<img src=\"img/5fold.jpg\">"
   ]
  },
  {
   "cell_type": "code",
   "execution_count": 50,
   "metadata": {},
   "outputs": [
    {
     "name": "stdout",
     "output_type": "stream",
     "text": [
      "[ 0.63919994  0.71386698  0.58702344  0.07923081 -0.25294154]\n"
     ]
    },
    {
     "data": {
      "text/plain": [
       "0.35327592439588124"
      ]
     },
     "execution_count": 50,
     "metadata": {},
     "output_type": "execute_result"
    }
   ],
   "source": [
    "from sklearn.model_selection import cross_val_score\n",
    "lreg_all = LinearRegression() \n",
    "cv_results = cross_val_score(lreg_all, X, y, cv=5,scoring=\"r2\")\n",
    "print(cv_results)\n",
    "np.mean(cv_results)"
   ]
  }
 ],
 "metadata": {
  "kernelspec": {
   "display_name": "Python 3",
   "language": "python",
   "name": "python3"
  },
  "language_info": {
   "codemirror_mode": {
    "name": "ipython",
    "version": 3
   },
   "file_extension": ".py",
   "mimetype": "text/x-python",
   "name": "python",
   "nbconvert_exporter": "python",
   "pygments_lexer": "ipython3",
   "version": "3.7.3"
  }
 },
 "nbformat": 4,
 "nbformat_minor": 2
}
